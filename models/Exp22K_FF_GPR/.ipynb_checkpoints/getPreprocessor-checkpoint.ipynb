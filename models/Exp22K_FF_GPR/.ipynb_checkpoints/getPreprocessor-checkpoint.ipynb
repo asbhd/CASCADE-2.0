{
 "cells": [
  {
   "cell_type": "code",
   "execution_count": 1,
   "id": "c14f68d4-f350-4e73-8682-0c721fce3df1",
   "metadata": {},
   "outputs": [
    {
     "name": "stderr",
     "output_type": "stream",
     "text": [
      "2025-05-15 15:20:03.997184: I tensorflow/core/platform/cpu_feature_guard.cc:193] This TensorFlow binary is optimized with oneAPI Deep Neural Network Library (oneDNN) to use the following CPU instructions in performance-critical operations:  AVX2 FMA\n",
      "To enable them in other operations, rebuild TensorFlow with the appropriate compiler flags.\n",
      "2025-05-15 15:20:04.462312: W tensorflow/compiler/xla/stream_executor/platform/default/dso_loader.cc:64] Could not load dynamic library 'libnvinfer.so.7'; dlerror: libnvinfer.so.7: cannot open shared object file: No such file or directory; LD_LIBRARY_PATH: :/home/abhijeet/anaconda3/envs/dl_nmr2/lib/:/home/abhijeet/.local/lib/python3.10/site-packages/nvidia/cudnn/lib\n",
      "2025-05-15 15:20:04.462381: W tensorflow/compiler/xla/stream_executor/platform/default/dso_loader.cc:64] Could not load dynamic library 'libnvinfer_plugin.so.7'; dlerror: libnvinfer_plugin.so.7: cannot open shared object file: No such file or directory; LD_LIBRARY_PATH: :/home/abhijeet/anaconda3/envs/dl_nmr2/lib/:/home/abhijeet/.local/lib/python3.10/site-packages/nvidia/cudnn/lib\n",
      "2025-05-15 15:20:04.462387: W tensorflow/compiler/tf2tensorrt/utils/py_utils.cc:38] TF-TRT Warning: Cannot dlopen some TensorRT libraries. If you would like to use Nvidia GPU with TensorRT, please make sure the missing libraries mentioned above are installed properly.\n"
     ]
    }
   ],
   "source": [
    "import sys\n",
    "import pickle\n",
    "sys.path.append('modules')\n",
    "\n",
    "def atomic_number_tokenizer(atom):\n",
    "    return atom.GetAtomicNum()\n",
    "\n",
    "with open('processed_inputs.p', 'rb') as f:\n",
    "    input_data = pickle.load(f)\n",
    "    \n",
    "preprocessor = input_data['preprocessor']\n",
    "\n",
    "with open('preprocessor_orig.p', 'wb') as file:        \n",
    "    pickle.dump({\n",
    "        'preprocessor': preprocessor,\n",
    "    }, file)"
   ]
  },
  {
   "cell_type": "code",
   "execution_count": null,
   "id": "2f83c88e-b5df-4f02-8664-b78d794aa140",
   "metadata": {},
   "outputs": [],
   "source": []
  }
 ],
 "metadata": {
  "kernelspec": {
   "display_name": "dl_nmr2",
   "language": "python",
   "name": "dl_nmr2"
  },
  "language_info": {
   "codemirror_mode": {
    "name": "ipython",
    "version": 3
   },
   "file_extension": ".py",
   "mimetype": "text/x-python",
   "name": "python",
   "nbconvert_exporter": "python",
   "pygments_lexer": "ipython3",
   "version": "3.10.14"
  }
 },
 "nbformat": 4,
 "nbformat_minor": 5
}

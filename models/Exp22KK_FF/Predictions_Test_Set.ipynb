{
 "cells": [
  {
   "cell_type": "markdown",
   "id": "86cbe1ab-e3ea-4846-b8fe-504bc9b07250",
   "metadata": {},
   "source": [
    "### Model"
   ]
  },
  {
   "cell_type": "code",
   "execution_count": 1,
   "id": "1f521302-c75b-42d3-8f32-8a88ae9c5790",
   "metadata": {},
   "outputs": [
    {
     "name": "stderr",
     "output_type": "stream",
     "text": [
      "2025-05-13 16:01:15.916367: I tensorflow/core/platform/cpu_feature_guard.cc:193] This TensorFlow binary is optimized with oneAPI Deep Neural Network Library (oneDNN) to use the following CPU instructions in performance-critical operations:  AVX2 FMA\n",
      "To enable them in other operations, rebuild TensorFlow with the appropriate compiler flags.\n",
      "2025-05-13 16:01:16.480335: W tensorflow/compiler/xla/stream_executor/platform/default/dso_loader.cc:64] Could not load dynamic library 'libnvinfer.so.7'; dlerror: libnvinfer.so.7: cannot open shared object file: No such file or directory; LD_LIBRARY_PATH: :/home/abhijeet/anaconda3/envs/dl_nmr2/lib/:/home/abhijeet/.local/lib/python3.10/site-packages/nvidia/cudnn/lib\n",
      "2025-05-13 16:01:16.480409: W tensorflow/compiler/xla/stream_executor/platform/default/dso_loader.cc:64] Could not load dynamic library 'libnvinfer_plugin.so.7'; dlerror: libnvinfer_plugin.so.7: cannot open shared object file: No such file or directory; LD_LIBRARY_PATH: :/home/abhijeet/anaconda3/envs/dl_nmr2/lib/:/home/abhijeet/.local/lib/python3.10/site-packages/nvidia/cudnn/lib\n",
      "2025-05-13 16:01:16.480415: W tensorflow/compiler/tf2tensorrt/utils/py_utils.cc:38] TF-TRT Warning: Cannot dlopen some TensorRT libraries. If you would like to use Nvidia GPU with TensorRT, please make sure the missing libraries mentioned above are installed properly.\n"
     ]
    }
   ],
   "source": [
    "import tensorflow as tf\n",
    "import time\n",
    "from datetime import timedelta\n",
    "import numpy as np\n",
    "import gzip\n",
    "import pickle\n",
    "import pandas as pd\n",
    "import sys\n",
    "sys.path.append('modules')\n",
    "from nfp.preprocessing import MolPreprocessor, GraphSequence\n",
    "from keras.callbacks import ModelCheckpoint, CSVLogger, LearningRateScheduler, ReduceLROnPlateau, EarlyStopping\n",
    "from keras import metrics\n",
    "from keras.metrics import RootMeanSquaredError\n",
    "import random\n",
    "import os\n",
    "tf.get_logger().setLevel('ERROR')\n",
    "\n",
    "# DATA PREPROCESSING\n",
    "\n",
    "os.environ[\"CUDA_VISIBLE_DEVICES\"]=\"-1\"\n",
    "\n",
    "def atomic_number_tokenizer(atom):\n",
    "    return atom.GetAtomicNum()\n",
    "\n",
    "def _compute_stacked_offsets(sizes, repeats):\n",
    "    return np.repeat(np.cumsum(np.hstack([0, sizes[:-1]])), repeats)\n",
    "\n",
    "def ragged_const(inp_arr):\n",
    "    return tf.ragged.constant(np.expand_dims(inp_arr,axis=0), ragged_rank=1)\n",
    "\n",
    "class RBFSequence(GraphSequence):\n",
    "    def process_data(self, batch_data):\n",
    "        \n",
    "        offset = _compute_stacked_offsets(\n",
    "            batch_data['n_pro'], batch_data['n_atom'])\n",
    "\n",
    "        offset = np.where(batch_data['atom_index']>=0, offset, 0)\n",
    "        batch_data['atom_index'] += offset\n",
    "        \n",
    "        features = ['node_attributes', 'node_coordinates', 'edge_indices', 'atom_index', 'n_pro']\n",
    "        for feature in features:\n",
    "            batch_data[feature] = ragged_const(batch_data[feature])\n",
    "\n",
    "        del batch_data['n_atom']\n",
    "        del batch_data['n_bond']\n",
    "        del batch_data['distance']\n",
    "        del batch_data['bond']\n",
    "        del batch_data['node_graph_indices']\n",
    "\n",
    "        return batch_data\n",
    "\n",
    "with open('data/processed_inputs.p', 'rb') as f:\n",
    "    input_data = pickle.load(f)\n",
    "    \n",
    "train = pd.read_pickle('data/train.pkl.gz')\n",
    "valid = pd.read_pickle('data/valid.pkl.gz')\n",
    "test = pd.read_pickle('data/test.pkl.gz')\n",
    "\n",
    "y_train = train.Shifts.values\n",
    "y_valid = valid.Shifts.values\n",
    "y_test = test.Shifts.values\n",
    "\n",
    "for i in range(17315):\n",
    "    y_train[i] -= 99.798111\n",
    "    y_train[i] /= 50.484337\n",
    "    \n",
    "for i in range(2200):\n",
    "    y_valid[i] -= 99.798111\n",
    "    y_valid[i] /= 50.484337\n",
    "\n",
    "batch_size = 64\n",
    "train_sequence = RBFSequence(input_data['inputs_train'], y_train, batch_size)\n",
    "valid_sequence = RBFSequence(input_data['inputs_valid'], y_valid, batch_size)\n",
    "test_sequence = RBFSequence(input_data['inputs_test'], batch_size=batch_size)"
   ]
  },
  {
   "cell_type": "code",
   "execution_count": 2,
   "id": "8efe4cee-1a16-4d83-9f52-94e58e17dd3b",
   "metadata": {},
   "outputs": [
    {
     "name": "stderr",
     "output_type": "stream",
     "text": [
      "2025-05-13 16:01:18.119247: E tensorflow/compiler/xla/stream_executor/cuda/cuda_driver.cc:267] failed call to cuInit: CUDA_ERROR_NO_DEVICE: no CUDA-capable device is detected\n",
      "2025-05-13 16:01:18.119273: I tensorflow/compiler/xla/stream_executor/cuda/cuda_diagnostics.cc:169] retrieving CUDA diagnostic information for host: drstrange\n",
      "2025-05-13 16:01:18.119283: I tensorflow/compiler/xla/stream_executor/cuda/cuda_diagnostics.cc:176] hostname: drstrange\n",
      "2025-05-13 16:01:18.119386: I tensorflow/compiler/xla/stream_executor/cuda/cuda_diagnostics.cc:200] libcuda reported version is: 535.161.7\n",
      "2025-05-13 16:01:18.119404: I tensorflow/compiler/xla/stream_executor/cuda/cuda_diagnostics.cc:204] kernel reported version is: 535.161.7\n",
      "2025-05-13 16:01:18.119408: I tensorflow/compiler/xla/stream_executor/cuda/cuda_diagnostics.cc:310] kernel version seems to match DSO: 535.161.7\n",
      "2025-05-13 16:01:18.119583: I tensorflow/core/platform/cpu_feature_guard.cc:193] This TensorFlow binary is optimized with oneAPI Deep Neural Network Library (oneDNN) to use the following CPU instructions in performance-critical operations:  AVX2 FMA\n",
      "To enable them in other operations, rebuild TensorFlow with the appropriate compiler flags.\n"
     ]
    },
    {
     "name": "stdout",
     "output_type": "stream",
     "text": [
      "WARNING:tensorflow:From /home/abhijeet/.local/lib/python3.10/site-packages/tensorflow/python/autograph/pyct/static_analysis/liveness.py:83: Analyzer.lamba_check (from tensorflow.python.autograph.pyct.static_analysis.liveness) is deprecated and will be removed after 2023-09-23.\n",
      "Instructions for updating:\n",
      "Lambda fuctions will be no more assumed to be used in the statement where they are used, or at least in the same block. https://github.com/tensorflow/tensorflow/issues/56089\n"
     ]
    },
    {
     "name": "stderr",
     "output_type": "stream",
     "text": [
      "WARNING:tensorflow:From /home/abhijeet/.local/lib/python3.10/site-packages/tensorflow/python/autograph/pyct/static_analysis/liveness.py:83: Analyzer.lamba_check (from tensorflow.python.autograph.pyct.static_analysis.liveness) is deprecated and will be removed after 2023-09-23.\n",
      "Instructions for updating:\n",
      "Lambda fuctions will be no more assumed to be used in the statement where they are used, or at least in the same block. https://github.com/tensorflow/tensorflow/issues/56089\n"
     ]
    }
   ],
   "source": [
    "from keras.models import Model, load_model\n",
    "from kgcnn.layers.casting import ChangeTensorType\n",
    "from kgcnn.layers.conv.painn_conv import PAiNNUpdate, EquivariantInitialize\n",
    "from kgcnn.layers.conv.painn_conv import PAiNNconv\n",
    "from kgcnn.layers.geom import NodeDistanceEuclidean, BesselBasisLayer, EdgeDirectionNormalized, CosCutOffEnvelope, \\\n",
    "    NodePosition, ShiftPeriodicLattice\n",
    "from kgcnn.layers.modules import LazyAdd, OptionalInputEmbedding\n",
    "from kgcnn.layers.mlp import GraphMLP, MLP\n",
    "from modules.pooling import PoolingNodes\n",
    "from kgcnn.layers.norm import GraphLayerNormalization, GraphBatchNormalization\n",
    "from kgcnn.model.utils import update_model_kwargs\n",
    "ks = tf.keras\n",
    "\n",
    "model = load_model('best_model.h5')"
   ]
  },
  {
   "cell_type": "markdown",
   "id": "6b9c37f1-92c2-4f65-9bca-99ec4b0f4f7e",
   "metadata": {},
   "source": [
    "### Predctions"
   ]
  },
  {
   "cell_type": "code",
   "execution_count": 3,
   "id": "b2497d25-39cf-4a5c-a450-0daefbb737f3",
   "metadata": {},
   "outputs": [
    {
     "name": "stderr",
     "output_type": "stream",
     "text": [
      " 15%|█████████▉                                                         | 4/27 [00:04<00:22,  1.00it/s]"
     ]
    },
    {
     "name": "stdout",
     "output_type": "stream",
     "text": [
      "WARNING:tensorflow:5 out of the last 5 calls to <function segment_ops_by_name at 0x7252ac77b880> triggered tf.function retracing. Tracing is expensive and the excessive number of tracings could be due to (1) creating @tf.function repeatedly in a loop, (2) passing tensors with different shapes, (3) passing Python objects instead of tensors. For (1), please define your @tf.function outside of the loop. For (2), @tf.function has reduce_retracing=True option that can avoid unnecessary retracing. For (3), please refer to https://www.tensorflow.org/guide/function#controlling_retracing and https://www.tensorflow.org/api_docs/python/tf/function for  more details.\n"
     ]
    },
    {
     "name": "stderr",
     "output_type": "stream",
     "text": [
      "WARNING:tensorflow:5 out of the last 5 calls to <function segment_ops_by_name at 0x7252ac77b880> triggered tf.function retracing. Tracing is expensive and the excessive number of tracings could be due to (1) creating @tf.function repeatedly in a loop, (2) passing tensors with different shapes, (3) passing Python objects instead of tensors. For (1), please define your @tf.function outside of the loop. For (2), @tf.function has reduce_retracing=True option that can avoid unnecessary retracing. For (3), please refer to https://www.tensorflow.org/guide/function#controlling_retracing and https://www.tensorflow.org/api_docs/python/tf/function for  more details.\n",
      " 19%|████████████▍                                                      | 5/27 [00:05<00:22,  1.00s/it]"
     ]
    },
    {
     "name": "stdout",
     "output_type": "stream",
     "text": [
      "WARNING:tensorflow:6 out of the last 6 calls to <function segment_ops_by_name at 0x7252ac77b880> triggered tf.function retracing. Tracing is expensive and the excessive number of tracings could be due to (1) creating @tf.function repeatedly in a loop, (2) passing tensors with different shapes, (3) passing Python objects instead of tensors. For (1), please define your @tf.function outside of the loop. For (2), @tf.function has reduce_retracing=True option that can avoid unnecessary retracing. For (3), please refer to https://www.tensorflow.org/guide/function#controlling_retracing and https://www.tensorflow.org/api_docs/python/tf/function for  more details.\n"
     ]
    },
    {
     "name": "stderr",
     "output_type": "stream",
     "text": [
      "WARNING:tensorflow:6 out of the last 6 calls to <function segment_ops_by_name at 0x7252ac77b880> triggered tf.function retracing. Tracing is expensive and the excessive number of tracings could be due to (1) creating @tf.function repeatedly in a loop, (2) passing tensors with different shapes, (3) passing Python objects instead of tensors. For (1), please define your @tf.function outside of the loop. For (2), @tf.function has reduce_retracing=True option that can avoid unnecessary retracing. For (3), please refer to https://www.tensorflow.org/guide/function#controlling_retracing and https://www.tensorflow.org/api_docs/python/tf/function for  more details.\n",
      "100%|██████████████████████████████████████████████████████████████████| 27/27 [00:26<00:00,  1.01it/s]\n"
     ]
    }
   ],
   "source": [
    "from tqdm import tqdm\n",
    "predictions = []\n",
    "for x in tqdm(test_sequence):\n",
    "    predictions.extend(model(x).numpy().flatten())"
   ]
  },
  {
   "cell_type": "code",
   "execution_count": 4,
   "id": "5cda03d3-9122-45af-891e-d5376f023a9c",
   "metadata": {},
   "outputs": [],
   "source": [
    "df = pd.DataFrame({'Predictions':predictions})\n",
    "df['Predictions'] = df['Predictions'].apply(lambda x: x*50.484337 +99.798111)"
   ]
  },
  {
   "cell_type": "code",
   "execution_count": 5,
   "id": "fddc0dc4-d95c-4b5b-8ad6-7797ce28e816",
   "metadata": {},
   "outputs": [
    {
     "data": {
      "text/html": [
       "<div>\n",
       "<style scoped>\n",
       "    .dataframe tbody tr th:only-of-type {\n",
       "        vertical-align: middle;\n",
       "    }\n",
       "\n",
       "    .dataframe tbody tr th {\n",
       "        vertical-align: top;\n",
       "    }\n",
       "\n",
       "    .dataframe thead th {\n",
       "        text-align: right;\n",
       "    }\n",
       "</style>\n",
       "<table border=\"1\" class=\"dataframe\">\n",
       "  <thead>\n",
       "    <tr style=\"text-align: right;\">\n",
       "      <th></th>\n",
       "      <th>Predictions</th>\n",
       "      <th>Actual</th>\n",
       "      <th>Error</th>\n",
       "    </tr>\n",
       "  </thead>\n",
       "  <tbody>\n",
       "    <tr>\n",
       "      <th>count</th>\n",
       "      <td>16186.000000</td>\n",
       "      <td>16186.000000</td>\n",
       "      <td>16186.000000</td>\n",
       "    </tr>\n",
       "    <tr>\n",
       "      <th>mean</th>\n",
       "      <td>100.920723</td>\n",
       "      <td>100.896545</td>\n",
       "      <td>0.804920</td>\n",
       "    </tr>\n",
       "    <tr>\n",
       "      <th>std</th>\n",
       "      <td>50.219685</td>\n",
       "      <td>50.260605</td>\n",
       "      <td>1.266258</td>\n",
       "    </tr>\n",
       "    <tr>\n",
       "      <th>min</th>\n",
       "      <td>-7.567133</td>\n",
       "      <td>-7.880000</td>\n",
       "      <td>0.000084</td>\n",
       "    </tr>\n",
       "    <tr>\n",
       "      <th>25%</th>\n",
       "      <td>51.347133</td>\n",
       "      <td>51.299999</td>\n",
       "      <td>0.176177</td>\n",
       "    </tr>\n",
       "    <tr>\n",
       "      <th>50%</th>\n",
       "      <td>122.655732</td>\n",
       "      <td>122.665001</td>\n",
       "      <td>0.435529</td>\n",
       "    </tr>\n",
       "    <tr>\n",
       "      <th>75%</th>\n",
       "      <td>133.931489</td>\n",
       "      <td>134.000000</td>\n",
       "      <td>0.962542</td>\n",
       "    </tr>\n",
       "    <tr>\n",
       "      <th>max</th>\n",
       "      <td>222.336832</td>\n",
       "      <td>222.300003</td>\n",
       "      <td>31.236674</td>\n",
       "    </tr>\n",
       "  </tbody>\n",
       "</table>\n",
       "</div>"
      ],
      "text/plain": [
       "        Predictions        Actual         Error\n",
       "count  16186.000000  16186.000000  16186.000000\n",
       "mean     100.920723    100.896545      0.804920\n",
       "std       50.219685     50.260605      1.266258\n",
       "min       -7.567133     -7.880000      0.000084\n",
       "25%       51.347133     51.299999      0.176177\n",
       "50%      122.655732    122.665001      0.435529\n",
       "75%      133.931489    134.000000      0.962542\n",
       "max      222.336832    222.300003     31.236674"
      ]
     },
     "execution_count": 5,
     "metadata": {},
     "output_type": "execute_result"
    }
   ],
   "source": [
    "df['Actual'] = np.concatenate(y_test)\n",
    "df['Error'] = abs(df['Actual']-df['Predictions'])\n",
    "df.describe()"
   ]
  },
  {
   "cell_type": "code",
   "execution_count": null,
   "id": "8cb29616-8122-4c55-975f-7b0c56c90281",
   "metadata": {},
   "outputs": [],
   "source": []
  }
 ],
 "metadata": {
  "kernelspec": {
   "display_name": "dl_nmr2",
   "language": "python",
   "name": "dl_nmr2"
  },
  "language_info": {
   "codemirror_mode": {
    "name": "ipython",
    "version": 3
   },
   "file_extension": ".py",
   "mimetype": "text/x-python",
   "name": "python",
   "nbconvert_exporter": "python",
   "pygments_lexer": "ipython3",
   "version": "3.10.14"
  }
 },
 "nbformat": 4,
 "nbformat_minor": 5
}
